{
 "cells": [
  {
   "cell_type": "code",
   "execution_count": 1,
   "id": "5e9af46e-8c3b-4866-8377-53106cefeda0",
   "metadata": {
    "tags": []
   },
   "outputs": [],
   "source": [
    "import os\n",
    "import numpy as np\n",
    "import shap\n",
    "import pandas as pd\n",
    "import random\n",
    "import matplotlib.pyplot as plt\n",
    "import xgboost as xgb\n",
    "\n",
    "import joblib\n",
    "import shap"
   ]
  },
  {
   "cell_type": "code",
   "execution_count": 2,
   "id": "6f1c9c5d-2e5d-44e6-adfc-a30e001e0d38",
   "metadata": {
    "tags": []
   },
   "outputs": [],
   "source": [
    "file_path = 'D:/JuypterNotebook/Github/CasualXGBoost-for-TER/data/ForPCMCI/byPFT/'\n",
    "csv_list = os.listdir(file_path)\n",
    "csv_list = [f for f in csv_list if f[-4:] == '.csv']\n",
    "list_num = len(csv_list)"
   ]
  },
  {
   "cell_type": "code",
   "execution_count": 3,
   "id": "55be3c07-50f8-4a92-b1e6-50ee1590cf0f",
   "metadata": {
    "tags": []
   },
   "outputs": [],
   "source": [
    "model_path = 'D:/JuypterNotebook/Github/CasualXGBoost-for-TER/data/XGBoost/Model/'\n",
    "out_dir = 'D:/小论文_Paper(doing)/Paper_09_site scale causality guide XGBoost model for TER/Process/Final/SHAP/'"
   ]
  },
  {
   "cell_type": "code",
   "execution_count": 4,
   "id": "4b24ba72-4151-46fa-af67-fe2248277f07",
   "metadata": {
    "tags": []
   },
   "outputs": [
    {
     "name": "stdout",
     "output_type": "stream",
     "text": [
      "D:/小论文_Paper(doing)/Paper_09_site scale causality guide XGBoost model for TER/Process/ForPCMCI/byPFT/sub_noNA_CRO.csv \n",
      "\n"
     ]
    }
   ],
   "source": [
    "file_name = file_path + csv_list[0]    \n",
    "sheet_file = pd.read_csv(file_name)\n",
    "pft = sheet_file.iloc[0,6]\n",
    "print(file_name,'\\n')\n",
    "pft = sheet_file.iloc[0,6]"
   ]
  },
  {
   "cell_type": "code",
   "execution_count": 31,
   "id": "7f0dad19-4361-4fd1-8c3d-c6d00ac4f618",
   "metadata": {
    "tags": []
   },
   "outputs": [
    {
     "name": "stdout",
     "output_type": "stream",
     "text": [
      "D:/小论文_Paper(doing)/Paper_09_site scale causality guide XGBoost model for TER/Process/ForPCMCI/byPFT/sub_noNA_CRO.csv \n",
      "\n",
      "D:/小论文_Paper(doing)/Paper_09_site scale causality guide XGBoost model for TER/Process/ForPCMCI/byPFT/sub_noNA_DBF.csv \n",
      "\n",
      "D:/小论文_Paper(doing)/Paper_09_site scale causality guide XGBoost model for TER/Process/ForPCMCI/byPFT/sub_noNA_EBF.csv \n",
      "\n",
      "D:/小论文_Paper(doing)/Paper_09_site scale causality guide XGBoost model for TER/Process/ForPCMCI/byPFT/sub_noNA_ENF.csv \n",
      "\n",
      "D:/小论文_Paper(doing)/Paper_09_site scale causality guide XGBoost model for TER/Process/ForPCMCI/byPFT/sub_noNA_GRA.csv \n",
      "\n",
      "D:/小论文_Paper(doing)/Paper_09_site scale causality guide XGBoost model for TER/Process/ForPCMCI/byPFT/sub_noNA_MF.csv \n",
      "\n",
      "D:/小论文_Paper(doing)/Paper_09_site scale causality guide XGBoost model for TER/Process/ForPCMCI/byPFT/sub_noNA_SAV.csv \n",
      "\n",
      "D:/小论文_Paper(doing)/Paper_09_site scale causality guide XGBoost model for TER/Process/ForPCMCI/byPFT/sub_noNA_SHR.csv \n",
      "\n"
     ]
    }
   ],
   "source": [
    "for i in range(list_num):\n",
    "    \n",
    "    file_name = file_path + csv_list[i]    \n",
    "    sheet_file = pd.read_csv(file_name)\n",
    "    pft = sheet_file.iloc[0,6]\n",
    "    print(file_name,'\\n')\n",
    "    pft = sheet_file.iloc[0,6]\n",
    "    \n",
    "    for j in range(20):\n",
    "        \n",
    "        order = j + 1\n",
    "        base_xgb = joblib.load(model_path + 'Baseline_'+pft+\"_%02d\"%order + '.joblib')\n",
    "        causal_xgb = joblib.load(model_path + 'Causal_'+pft+\"_%02d\"%order + '.joblib')\n",
    "        \n",
    "        explainer_base = shap.Explainer(base_xgb)\n",
    "        shap_values_base = explainer_base(sheet_file.iloc[:,12:],check_additivity=False)\n",
    "        shap_base = pd.DataFrame(shap_values_base.values) \n",
    "        shap_base.columns = sheet_file.iloc[:,12:].columns + '_base'\n",
    "        \n",
    "        explainer_causal = shap.Explainer(causal_xgb)\n",
    "        shap_values_causal = explainer_causal(sheet_file.iloc[:,12:],check_additivity=False)\n",
    "        shap_causal = pd.DataFrame(shap_values_causal.values) \n",
    "        shap_causal.columns = sheet_file.iloc[:,12:].columns +  '_causal'\n",
    "        \n",
    "        shap_base.to_csv(out_dir + 'SHAP_Base_' + pft + \"_%02d\"%order + '.csv',index = False )\n",
    "        shap_causal.to_csv(out_dir + 'SHAP_Causal_' + pft + \"_%02d\"%order + '.csv',index = False )"
   ]
  },
  {
   "cell_type": "code",
   "execution_count": null,
   "id": "d645b98c-dd19-4dcd-8b19-6cc6171c542a",
   "metadata": {},
   "outputs": [],
   "source": []
  }
 ],
 "metadata": {
  "kernelspec": {
   "display_name": "Python 3 (ipykernel)",
   "language": "python",
   "name": "python3"
  },
  "language_info": {
   "codemirror_mode": {
    "name": "ipython",
    "version": 3
   },
   "file_extension": ".py",
   "mimetype": "text/x-python",
   "name": "python",
   "nbconvert_exporter": "python",
   "pygments_lexer": "ipython3",
   "version": "3.9.16"
  }
 },
 "nbformat": 4,
 "nbformat_minor": 5
}
