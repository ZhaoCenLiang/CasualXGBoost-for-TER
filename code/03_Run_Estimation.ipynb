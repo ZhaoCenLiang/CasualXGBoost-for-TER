{
 "cells": [
  {
   "cell_type": "code",
   "execution_count": 1,
   "id": "cd333b2d-023b-4fc9-9d42-4ff5c0517e77",
   "metadata": {
    "tags": []
   },
   "outputs": [],
   "source": [
    "from sklearn.model_selection import train_test_split\n",
    "from sklearn.metrics import r2_score\n",
    "from sklearn.metrics import mean_squared_error\n",
    "\n",
    "import os\n",
    "import numpy as np\n",
    "import shap\n",
    "import pandas as pd\n",
    "import random\n",
    "import matplotlib.pyplot as plt\n",
    "import xgboost as xgb\n",
    "\n",
    "import joblib"
   ]
  },
  {
   "cell_type": "code",
   "execution_count": 2,
   "id": "eb8cf8b1-4df7-45cf-b41b-68c30ea6831c",
   "metadata": {
    "tags": []
   },
   "outputs": [],
   "source": [
    "file_path = 'D:/JuypterNotebook/Github/CasualXGBoost-for-TER/data/ForPCMCI/byPFT/'\n",
    "csv_list = os.listdir(file_path)\n",
    "csv_list = [f for f in csv_list if f[-4:] == '.csv']\n",
    "list_num = len(csv_list)"
   ]
  },
  {
   "cell_type": "code",
   "execution_count": 4,
   "id": "dcbd1f8f-4e70-4743-a0e9-0a7cf073967c",
   "metadata": {
    "tags": []
   },
   "outputs": [],
   "source": [
    "out_dir = 'D:/JuypterNotebook/Github/CasualXGBoost-for-TER/data/Final/'"
   ]
  },
  {
   "cell_type": "code",
   "execution_count": null,
   "id": "1eaa781c-9b13-4130-ad90-7edb1a5e29fe",
   "metadata": {},
   "outputs": [],
   "source": [
    "model_path = 'D:/JuypterNotebook/Github/CasualXGBoost-for-TER/data/XGBoost/Model/'"
   ]
  },
  {
   "cell_type": "code",
   "execution_count": 23,
   "id": "6f591ecc-8303-4162-9e95-a28ef66be3c6",
   "metadata": {
    "tags": []
   },
   "outputs": [
    {
     "name": "stdout",
     "output_type": "stream",
     "text": [
      "D:/小论文_Paper(doing)/Paper_09_site scale causality guide XGBoost model for TER/Process/ForPCMCI/byPFT/sub_noNA_CRO.csv \n",
      "\n",
      "D:/小论文_Paper(doing)/Paper_09_site scale causality guide XGBoost model for TER/Process/ForPCMCI/byPFT/sub_noNA_DBF.csv \n",
      "\n",
      "D:/小论文_Paper(doing)/Paper_09_site scale causality guide XGBoost model for TER/Process/ForPCMCI/byPFT/sub_noNA_EBF.csv \n",
      "\n",
      "D:/小论文_Paper(doing)/Paper_09_site scale causality guide XGBoost model for TER/Process/ForPCMCI/byPFT/sub_noNA_ENF.csv \n",
      "\n",
      "D:/小论文_Paper(doing)/Paper_09_site scale causality guide XGBoost model for TER/Process/ForPCMCI/byPFT/sub_noNA_GRA.csv \n",
      "\n",
      "D:/小论文_Paper(doing)/Paper_09_site scale causality guide XGBoost model for TER/Process/ForPCMCI/byPFT/sub_noNA_MF.csv \n",
      "\n",
      "D:/小论文_Paper(doing)/Paper_09_site scale causality guide XGBoost model for TER/Process/ForPCMCI/byPFT/sub_noNA_SAV.csv \n",
      "\n",
      "D:/小论文_Paper(doing)/Paper_09_site scale causality guide XGBoost model for TER/Process/ForPCMCI/byPFT/sub_noNA_SHR.csv \n",
      "\n"
     ]
    }
   ],
   "source": [
    "for i in range(list_num):\n",
    "    \n",
    "    file_name = file_path + csv_list[i]    \n",
    "    sheet_file = pd.read_csv(file_name)\n",
    "    pft = sheet_file.iloc[0,6]\n",
    "    print(file_name,'\\n')\n",
    "    \n",
    "    features = sheet_file.iloc[:,12:]\n",
    "    base = sheet_file.iloc[:,:12]\n",
    "    pft = sheet_file.iloc[0,6]\n",
    "    \n",
    "    for j in range(20):\n",
    "        \n",
    "        order = j + 1\n",
    "        base_xgb = joblib.load(model_path + 'Baseline_'+pft+\"_%02d\"%order + '.joblib')\n",
    "        causal_xgb = joblib.load(model_path + 'Causal_'+pft+\"_%02d\"%order + '.joblib')\n",
    "        \n",
    "        base_estimate = pd.DataFrame(base_xgb.predict(features))\n",
    "        causal_estimate = pd.DataFrame(causal_xgb.predict(features))\n",
    "        \n",
    "        pred_times = pd.concat([base_estimate,causal_estimate],axis=1)\n",
    "        pred_times.columns = [\"RECO_base_\"+\"%02d\"%order,\"RECO_causal_\"+\"%02d\"%order]\n",
    "        \n",
    "        base = pd.concat([base,pred_times], axis=1)\n",
    "    \n",
    "    base.to_csv(out_dir + 'ALL_site_estimation_' + pft + '.csv',index = False )"
   ]
  },
  {
   "cell_type": "code",
   "execution_count": 28,
   "id": "085240be-46f5-4e86-8f9f-12f9aa2a8644",
   "metadata": {
    "tags": []
   },
   "outputs": [
    {
     "name": "stdout",
     "output_type": "stream",
     "text": [
      "D:/小论文_Paper(doing)/Paper_09_site scale causality guide XGBoost model for TER/Process/ForPCMCI/byPFT/sub_noNA_CRO.csv \n",
      "\n",
      "D:/小论文_Paper(doing)/Paper_09_site scale causality guide XGBoost model for TER/Process/ForPCMCI/byPFT/sub_noNA_DBF.csv \n",
      "\n",
      "D:/小论文_Paper(doing)/Paper_09_site scale causality guide XGBoost model for TER/Process/ForPCMCI/byPFT/sub_noNA_EBF.csv \n",
      "\n",
      "D:/小论文_Paper(doing)/Paper_09_site scale causality guide XGBoost model for TER/Process/ForPCMCI/byPFT/sub_noNA_ENF.csv \n",
      "\n",
      "D:/小论文_Paper(doing)/Paper_09_site scale causality guide XGBoost model for TER/Process/ForPCMCI/byPFT/sub_noNA_GRA.csv \n",
      "\n",
      "D:/小论文_Paper(doing)/Paper_09_site scale causality guide XGBoost model for TER/Process/ForPCMCI/byPFT/sub_noNA_MF.csv \n",
      "\n",
      "D:/小论文_Paper(doing)/Paper_09_site scale causality guide XGBoost model for TER/Process/ForPCMCI/byPFT/sub_noNA_SAV.csv \n",
      "\n",
      "D:/小论文_Paper(doing)/Paper_09_site scale causality guide XGBoost model for TER/Process/ForPCMCI/byPFT/sub_noNA_SHR.csv \n",
      "\n"
     ]
    }
   ],
   "source": [
    "# plus 1 degree\n",
    "for i in range(list_num):\n",
    "    \n",
    "    file_name = file_path + csv_list[i]    \n",
    "    sheet_file = pd.read_csv(file_name)\n",
    "    pft = sheet_file.iloc[0,6]\n",
    "    print(file_name,'\\n')\n",
    "    \n",
    "    features = sheet_file.iloc[:,12:]\n",
    "    features['Air_temperature'] = features['Air_temperature']  + 1\n",
    "    base = sheet_file.iloc[:,:12]\n",
    "    pft = sheet_file.iloc[0,6]\n",
    "    \n",
    "    for j in range(20):\n",
    "        \n",
    "        order = j + 1\n",
    "        base_xgb = joblib.load(model_path + 'Baseline_'+pft+\"_%02d\"%order + '.joblib')\n",
    "        causal_xgb = joblib.load(model_path + 'Causal_'+pft+\"_%02d\"%order + '.joblib')\n",
    "        \n",
    "        base_estimate = pd.DataFrame(base_xgb.predict(features))\n",
    "        causal_estimate = pd.DataFrame(causal_xgb.predict(features))\n",
    "        \n",
    "        pred_times = pd.concat([base_estimate,causal_estimate],axis=1)\n",
    "        pred_times.columns = [\"RECO_base_\"+\"%02d\"%order,\"RECO_causal_\"+\"%02d\"%order]\n",
    "        \n",
    "        sheet_file = pd.concat([sheet_file,pred_times], axis=1)\n",
    "    \n",
    "    sheet_file.to_csv(out_dir + './PLUS_oneDegree/ALL_site_estimation_PlusOneDegree_' + pft + '.csv',index = False )"
   ]
  },
  {
   "cell_type": "code",
   "execution_count": null,
   "id": "b52a478f-6cae-46bc-bcfd-fa1ded4ace38",
   "metadata": {},
   "outputs": [],
   "source": []
  }
 ],
 "metadata": {
  "kernelspec": {
   "display_name": "Python 3 (ipykernel)",
   "language": "python",
   "name": "python3"
  },
  "language_info": {
   "codemirror_mode": {
    "name": "ipython",
    "version": 3
   },
   "file_extension": ".py",
   "mimetype": "text/x-python",
   "name": "python",
   "nbconvert_exporter": "python",
   "pygments_lexer": "ipython3",
   "version": "3.9.16"
  }
 },
 "nbformat": 4,
 "nbformat_minor": 5
}
